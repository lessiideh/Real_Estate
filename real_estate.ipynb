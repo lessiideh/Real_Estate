{
 "cells": [
  {
   "cell_type": "markdown",
   "id": "5d20fda3",
   "metadata": {},
   "source": [
    "# **Regression Model**"
   ]
  },
  {
   "cell_type": "markdown",
   "id": "9a0eeeef",
   "metadata": {},
   "source": [
    "**Predicting the Price Of a Residential Property**\n",
    "- Predicting the selling price of a residential property depends on a number of factors, including the property age, availability of local amenities, and location.\n",
    "- In this project, I will be using a real estate sales transactions dataset to predict the price-per-unit of a property based on its features. The price-per-unit in this data is based on a unit measurement of 3.3 square meters."
   ]
  },
  {
   "cell_type": "code",
   "execution_count": 1,
   "id": "98c8dee0",
   "metadata": {},
   "outputs": [],
   "source": [
    "import pandas as pd\n",
    "import numpy as np\n",
    "import matplotlib.pyplot as plt\n",
    "import seaborn as sns\n",
    "import warnings\n",
    "warnings.filterwarnings('ignore')\n",
    "from sklearn.model_selection import train_test_split\n",
    "from sklearn.preprocessing import LabelEncoder, StandardScaler\n",
    "from sklearn.compose import ColumnTransformer\n",
    "from sklearn.pipeline import Pipeline\n",
    "from sklearn.ensemble import RandomForestRegressor\n",
    "from sklearn.metrics import mean_squared_error, r2_score\n",
    "%matplotlib inline"
   ]
  },
  {
   "cell_type": "code",
   "execution_count": 2,
   "id": "191c6cb5",
   "metadata": {},
   "outputs": [
    {
     "data": {
      "text/html": [
       "<div>\n",
       "<style scoped>\n",
       "    .dataframe tbody tr th:only-of-type {\n",
       "        vertical-align: middle;\n",
       "    }\n",
       "\n",
       "    .dataframe tbody tr th {\n",
       "        vertical-align: top;\n",
       "    }\n",
       "\n",
       "    .dataframe thead th {\n",
       "        text-align: right;\n",
       "    }\n",
       "</style>\n",
       "<table border=\"1\" class=\"dataframe\">\n",
       "  <thead>\n",
       "    <tr style=\"text-align: right;\">\n",
       "      <th></th>\n",
       "      <th>transaction_date</th>\n",
       "      <th>house_age</th>\n",
       "      <th>transit_distance</th>\n",
       "      <th>local_convenience_stores</th>\n",
       "      <th>latitude</th>\n",
       "      <th>longitude</th>\n",
       "      <th>price_per_unit</th>\n",
       "    </tr>\n",
       "  </thead>\n",
       "  <tbody>\n",
       "    <tr>\n",
       "      <th>0</th>\n",
       "      <td>2012.917</td>\n",
       "      <td>32.0</td>\n",
       "      <td>84.87882</td>\n",
       "      <td>10</td>\n",
       "      <td>24.98298</td>\n",
       "      <td>121.54024</td>\n",
       "      <td>37.9</td>\n",
       "    </tr>\n",
       "    <tr>\n",
       "      <th>1</th>\n",
       "      <td>2012.917</td>\n",
       "      <td>19.5</td>\n",
       "      <td>306.59470</td>\n",
       "      <td>9</td>\n",
       "      <td>24.98034</td>\n",
       "      <td>121.53951</td>\n",
       "      <td>42.2</td>\n",
       "    </tr>\n",
       "    <tr>\n",
       "      <th>2</th>\n",
       "      <td>2013.583</td>\n",
       "      <td>13.3</td>\n",
       "      <td>561.98450</td>\n",
       "      <td>5</td>\n",
       "      <td>24.98746</td>\n",
       "      <td>121.54391</td>\n",
       "      <td>47.3</td>\n",
       "    </tr>\n",
       "    <tr>\n",
       "      <th>3</th>\n",
       "      <td>2013.500</td>\n",
       "      <td>13.3</td>\n",
       "      <td>561.98450</td>\n",
       "      <td>5</td>\n",
       "      <td>24.98746</td>\n",
       "      <td>121.54391</td>\n",
       "      <td>54.8</td>\n",
       "    </tr>\n",
       "    <tr>\n",
       "      <th>4</th>\n",
       "      <td>2012.833</td>\n",
       "      <td>5.0</td>\n",
       "      <td>390.56840</td>\n",
       "      <td>5</td>\n",
       "      <td>24.97937</td>\n",
       "      <td>121.54245</td>\n",
       "      <td>43.1</td>\n",
       "    </tr>\n",
       "  </tbody>\n",
       "</table>\n",
       "</div>"
      ],
      "text/plain": [
       "   transaction_date  house_age  transit_distance  local_convenience_stores  \\\n",
       "0          2012.917       32.0          84.87882                        10   \n",
       "1          2012.917       19.5         306.59470                         9   \n",
       "2          2013.583       13.3         561.98450                         5   \n",
       "3          2013.500       13.3         561.98450                         5   \n",
       "4          2012.833        5.0         390.56840                         5   \n",
       "\n",
       "   latitude  longitude  price_per_unit  \n",
       "0  24.98298  121.54024            37.9  \n",
       "1  24.98034  121.53951            42.2  \n",
       "2  24.98746  121.54391            47.3  \n",
       "3  24.98746  121.54391            54.8  \n",
       "4  24.97937  121.54245            43.1  "
      ]
     },
     "execution_count": 2,
     "metadata": {},
     "output_type": "execute_result"
    }
   ],
   "source": [
    "real_estate = pd.read_csv('real_estate.csv')\n",
    "real_estate.head()"
   ]
  },
  {
   "cell_type": "markdown",
   "id": "f9615d4f",
   "metadata": {},
   "source": [
    "**Column Description**\n",
    "- transaction_date - the transaction date (for example, 2013.250=2013 March, 2013.500=2013 June, etc.)\n",
    "- house_age - the house age (in years)\n",
    "- transit_distance - the distance to the nearest light rail station (in meters)\n",
    "- local_convenience_stores - the number of convenience stores within walking distance\n",
    "- latitude - the geographic coordinate, latitude\n",
    "- longitude - the geographic coordinate, longitude\n",
    "- price_per_unit house price of unit area (3.3 square meters)"
   ]
  },
  {
   "cell_type": "markdown",
   "id": "33f0be73",
   "metadata": {},
   "source": [
    "### Data Cleaning"
   ]
  },
  {
   "cell_type": "code",
   "execution_count": 3,
   "id": "ae3950d1",
   "metadata": {},
   "outputs": [
    {
     "data": {
      "text/plain": [
       "transaction_date            0\n",
       "house_age                   0\n",
       "transit_distance            0\n",
       "local_convenience_stores    0\n",
       "latitude                    0\n",
       "longitude                   0\n",
       "price_per_unit              0\n",
       "dtype: int64"
      ]
     },
     "execution_count": 3,
     "metadata": {},
     "output_type": "execute_result"
    }
   ],
   "source": [
    "# Checking for null values\n",
    "real_estate.isna().sum()"
   ]
  },
  {
   "cell_type": "code",
   "execution_count": 4,
   "id": "a5d8c5db",
   "metadata": {},
   "outputs": [
    {
     "data": {
      "text/plain": [
       "0"
      ]
     },
     "execution_count": 4,
     "metadata": {},
     "output_type": "execute_result"
    }
   ],
   "source": [
    "# Checking for duplicate values\n",
    "real_estate.duplicated().sum()"
   ]
  },
  {
   "cell_type": "code",
   "execution_count": 5,
   "id": "f93b0dde",
   "metadata": {},
   "outputs": [],
   "source": [
    "# Renaming columns for accessibility\n",
    "real_estate.rename(columns= {'transaction_date': 'date', 'local_convenience_stores': 'stores', 'price_per_unit': 'unit_price'}, \n",
    "                   inplace= True)"
   ]
  },
  {
   "cell_type": "markdown",
   "id": "8a8f8b53",
   "metadata": {},
   "source": [
    "The label, price_per_unit is herein refered to as unit price"
   ]
  },
  {
   "cell_type": "code",
   "execution_count": 6,
   "id": "4bc2bb0c",
   "metadata": {},
   "outputs": [
    {
     "name": "stdout",
     "output_type": "stream",
     "text": [
      "<class 'pandas.core.frame.DataFrame'>\n",
      "RangeIndex: 414 entries, 0 to 413\n",
      "Data columns (total 7 columns):\n",
      " #   Column            Non-Null Count  Dtype  \n",
      "---  ------            --------------  -----  \n",
      " 0   date              414 non-null    float64\n",
      " 1   house_age         414 non-null    float64\n",
      " 2   transit_distance  414 non-null    float64\n",
      " 3   stores            414 non-null    int64  \n",
      " 4   latitude          414 non-null    float64\n",
      " 5   longitude         414 non-null    float64\n",
      " 6   unit_price        414 non-null    float64\n",
      "dtypes: float64(6), int64(1)\n",
      "memory usage: 22.8 KB\n"
     ]
    }
   ],
   "source": [
    "real_estate.info()"
   ]
  },
  {
   "cell_type": "markdown",
   "id": "a8e6ecf2",
   "metadata": {},
   "source": [
    "#### **Splitting the Date column into Month and Year Columns**"
   ]
  },
  {
   "cell_type": "code",
   "execution_count": 7,
   "id": "21e71582",
   "metadata": {},
   "outputs": [
    {
     "data": {
      "text/plain": [
       "array([2012.917, 2013.583, 2013.5  , 2012.833, 2012.667, 2013.417,\n",
       "       2013.083, 2013.333, 2013.25 , 2012.75 , 2013.   , 2013.167])"
      ]
     },
     "execution_count": 7,
     "metadata": {},
     "output_type": "execute_result"
    }
   ],
   "source": [
    "# Unique values in the date column\n",
    "real_estate.date.unique()"
   ]
  },
  {
   "cell_type": "markdown",
   "id": "58a76d74",
   "metadata": {},
   "source": [
    "The transaction date is represented by years and months, the month is in a fraction ie a particular month, for instance Febraury when divided by 12 which is the total number of months in a year is 0.167 and so on."
   ]
  },
  {
   "cell_type": "code",
   "execution_count": 8,
   "id": "69cc8a2c",
   "metadata": {},
   "outputs": [
    {
     "data": {
      "text/html": [
       "<div>\n",
       "<style scoped>\n",
       "    .dataframe tbody tr th:only-of-type {\n",
       "        vertical-align: middle;\n",
       "    }\n",
       "\n",
       "    .dataframe tbody tr th {\n",
       "        vertical-align: top;\n",
       "    }\n",
       "\n",
       "    .dataframe thead th {\n",
       "        text-align: right;\n",
       "    }\n",
       "</style>\n",
       "<table border=\"1\" class=\"dataframe\">\n",
       "  <thead>\n",
       "    <tr style=\"text-align: right;\">\n",
       "      <th></th>\n",
       "      <th>month</th>\n",
       "      <th>year</th>\n",
       "      <th>house_age</th>\n",
       "      <th>transit_distance</th>\n",
       "      <th>stores</th>\n",
       "      <th>latitude</th>\n",
       "      <th>longitude</th>\n",
       "      <th>unit_price</th>\n",
       "    </tr>\n",
       "  </thead>\n",
       "  <tbody>\n",
       "    <tr>\n",
       "      <th>0</th>\n",
       "      <td>November</td>\n",
       "      <td>2012</td>\n",
       "      <td>32.0</td>\n",
       "      <td>84.87882</td>\n",
       "      <td>10</td>\n",
       "      <td>24.98298</td>\n",
       "      <td>121.54024</td>\n",
       "      <td>37.9</td>\n",
       "    </tr>\n",
       "    <tr>\n",
       "      <th>1</th>\n",
       "      <td>November</td>\n",
       "      <td>2012</td>\n",
       "      <td>19.5</td>\n",
       "      <td>306.59470</td>\n",
       "      <td>9</td>\n",
       "      <td>24.98034</td>\n",
       "      <td>121.53951</td>\n",
       "      <td>42.2</td>\n",
       "    </tr>\n",
       "    <tr>\n",
       "      <th>2</th>\n",
       "      <td>July</td>\n",
       "      <td>2013</td>\n",
       "      <td>13.3</td>\n",
       "      <td>561.98450</td>\n",
       "      <td>5</td>\n",
       "      <td>24.98746</td>\n",
       "      <td>121.54391</td>\n",
       "      <td>47.3</td>\n",
       "    </tr>\n",
       "  </tbody>\n",
       "</table>\n",
       "</div>"
      ],
      "text/plain": [
       "      month  year  house_age  transit_distance  stores  latitude  longitude  \\\n",
       "0  November  2012       32.0          84.87882      10  24.98298  121.54024   \n",
       "1  November  2012       19.5         306.59470       9  24.98034  121.53951   \n",
       "2      July  2013       13.3         561.98450       5  24.98746  121.54391   \n",
       "\n",
       "   unit_price  \n",
       "0        37.9  \n",
       "1        42.2  \n",
       "2        47.3  "
      ]
     },
     "execution_count": 8,
     "metadata": {},
     "output_type": "execute_result"
    }
   ],
   "source": [
    "# Splitting the date column into month and year\n",
    "real_estate['date'] = real_estate['date'].astype(str)\n",
    "real_estate[['year', 'month']] = real_estate['date'].str.split(\".\", expand= True)\n",
    "\n",
    "real_estate.year = real_estate.year.astype(int) # Converting year to int\n",
    "\n",
    "# Mapping month names to the months in fractions\n",
    "new_month = {'083': 'January', '167': 'February', '25': 'March', '333': 'April', '417': 'May', '5': 'June', '583': 'July', \n",
    "             '667': 'August', '75': 'September', '833': 'October', '917': 'November', '0': 'December'}\n",
    "real_estate.month = real_estate.month.map(new_month)\n",
    "\n",
    "\n",
    "# Reording Columns and dropping date column\n",
    "cols = ['month', 'year', 'house_age', 'transit_distance', 'stores', 'latitude', 'longitude', 'unit_price']\n",
    "real_estate = real_estate[cols]\n",
    "\n",
    "real_estate.head(3)"
   ]
  },
  {
   "cell_type": "markdown",
   "id": "ebcebbd2",
   "metadata": {},
   "source": [
    "## EDA"
   ]
  },
  {
   "cell_type": "code",
   "execution_count": 9,
   "id": "d7987c20",
   "metadata": {},
   "outputs": [
    {
     "data": {
      "text/html": [
       "<div>\n",
       "<style scoped>\n",
       "    .dataframe tbody tr th:only-of-type {\n",
       "        vertical-align: middle;\n",
       "    }\n",
       "\n",
       "    .dataframe tbody tr th {\n",
       "        vertical-align: top;\n",
       "    }\n",
       "\n",
       "    .dataframe thead th {\n",
       "        text-align: right;\n",
       "    }\n",
       "</style>\n",
       "<table border=\"1\" class=\"dataframe\">\n",
       "  <thead>\n",
       "    <tr style=\"text-align: right;\">\n",
       "      <th></th>\n",
       "      <th>house_age</th>\n",
       "      <th>transit_distance</th>\n",
       "      <th>stores</th>\n",
       "      <th>latitude</th>\n",
       "      <th>longitude</th>\n",
       "      <th>unit_price</th>\n",
       "    </tr>\n",
       "  </thead>\n",
       "  <tbody>\n",
       "    <tr>\n",
       "      <th>count</th>\n",
       "      <td>414.000000</td>\n",
       "      <td>414.000000</td>\n",
       "      <td>414.000000</td>\n",
       "      <td>414.000000</td>\n",
       "      <td>414.000000</td>\n",
       "      <td>414.000000</td>\n",
       "    </tr>\n",
       "    <tr>\n",
       "      <th>mean</th>\n",
       "      <td>17.712560</td>\n",
       "      <td>1083.885689</td>\n",
       "      <td>4.094203</td>\n",
       "      <td>24.969030</td>\n",
       "      <td>121.533361</td>\n",
       "      <td>37.980193</td>\n",
       "    </tr>\n",
       "    <tr>\n",
       "      <th>std</th>\n",
       "      <td>11.392485</td>\n",
       "      <td>1262.109595</td>\n",
       "      <td>2.945562</td>\n",
       "      <td>0.012410</td>\n",
       "      <td>0.015347</td>\n",
       "      <td>13.606488</td>\n",
       "    </tr>\n",
       "    <tr>\n",
       "      <th>min</th>\n",
       "      <td>0.000000</td>\n",
       "      <td>23.382840</td>\n",
       "      <td>0.000000</td>\n",
       "      <td>24.932070</td>\n",
       "      <td>121.473530</td>\n",
       "      <td>7.600000</td>\n",
       "    </tr>\n",
       "    <tr>\n",
       "      <th>25%</th>\n",
       "      <td>9.025000</td>\n",
       "      <td>289.324800</td>\n",
       "      <td>1.000000</td>\n",
       "      <td>24.963000</td>\n",
       "      <td>121.528085</td>\n",
       "      <td>27.700000</td>\n",
       "    </tr>\n",
       "    <tr>\n",
       "      <th>50%</th>\n",
       "      <td>16.100000</td>\n",
       "      <td>492.231300</td>\n",
       "      <td>4.000000</td>\n",
       "      <td>24.971100</td>\n",
       "      <td>121.538630</td>\n",
       "      <td>38.450000</td>\n",
       "    </tr>\n",
       "    <tr>\n",
       "      <th>75%</th>\n",
       "      <td>28.150000</td>\n",
       "      <td>1454.279000</td>\n",
       "      <td>6.000000</td>\n",
       "      <td>24.977455</td>\n",
       "      <td>121.543305</td>\n",
       "      <td>46.600000</td>\n",
       "    </tr>\n",
       "    <tr>\n",
       "      <th>max</th>\n",
       "      <td>43.800000</td>\n",
       "      <td>6488.021000</td>\n",
       "      <td>10.000000</td>\n",
       "      <td>25.014590</td>\n",
       "      <td>121.566270</td>\n",
       "      <td>117.500000</td>\n",
       "    </tr>\n",
       "  </tbody>\n",
       "</table>\n",
       "</div>"
      ],
      "text/plain": [
       "        house_age  transit_distance      stores    latitude   longitude  \\\n",
       "count  414.000000        414.000000  414.000000  414.000000  414.000000   \n",
       "mean    17.712560       1083.885689    4.094203   24.969030  121.533361   \n",
       "std     11.392485       1262.109595    2.945562    0.012410    0.015347   \n",
       "min      0.000000         23.382840    0.000000   24.932070  121.473530   \n",
       "25%      9.025000        289.324800    1.000000   24.963000  121.528085   \n",
       "50%     16.100000        492.231300    4.000000   24.971100  121.538630   \n",
       "75%     28.150000       1454.279000    6.000000   24.977455  121.543305   \n",
       "max     43.800000       6488.021000   10.000000   25.014590  121.566270   \n",
       "\n",
       "       unit_price  \n",
       "count  414.000000  \n",
       "mean    37.980193  \n",
       "std     13.606488  \n",
       "min      7.600000  \n",
       "25%     27.700000  \n",
       "50%     38.450000  \n",
       "75%     46.600000  \n",
       "max    117.500000  "
      ]
     },
     "execution_count": 9,
     "metadata": {},
     "output_type": "execute_result"
    }
   ],
   "source": [
    "real_estate.drop('year', axis= 1).describe()"
   ]
  },
  {
   "cell_type": "code",
   "execution_count": 10,
   "id": "d0dd5ae8",
   "metadata": {},
   "outputs": [
    {
     "data": {
      "image/png": "[encoded data removed]",
      "text/plain": [
       "<Figure size 864x648 with 2 Axes>"
      ]
     },
     "metadata": {
      "needs_background": "light"
     },
     "output_type": "display_data"
    }
   ],
   "source": [
    "# Visualizing the label\n",
    "label = real_estate['unit_price']\n",
    "\n",
    "fig, ax = plt.subplots(2,1, figsize= (12, 9))\n",
    "\n",
    "sns.histplot(ax= ax[0], x= label, bins= 50)\n",
    "plt.xlabel('Frequency', size = 12)\n",
    "ax[0].axvline(label.mean(), color='red', linestyle='dashed', linewidth=2)\n",
    "ax[0].axvline(label.median(), color='yellow', linestyle='dashed', linewidth=2)\n",
    "\n",
    "\n",
    "sns.boxplot(ax= ax[1], x= label, linewidth= .8)\n",
    "\n",
    "plt.suptitle('Label Distribution', fontweight= 'bold', size= 15)\n",
    "plt.subplots_adjust(hspace= .3)\n",
    "plt.show()"
   ]
  },
  {
   "cell_type": "markdown",
   "id": "d5b09036",
   "metadata": {},
   "source": [
    "As seen in the distribution denoted by the histogram and boxplot, There are some outiiers and they'll be removed"
   ]
  },
  {
   "cell_type": "code",
   "execution_count": 11,
   "id": "c7e6bb6c",
   "metadata": {},
   "outputs": [],
   "source": [
    "# Removing outliers above the 99th percentile\n",
    "outlier = real_estate.unit_price.quantile(0.99)\n",
    "real_estate = real_estate[real_estate.unit_price < outlier]"
   ]
  },
  {
   "cell_type": "code",
   "execution_count": 12,
   "id": "161cb9d6",
   "metadata": {
    "scrolled": false
   },
   "outputs": [
    {
     "data": {
      "image/png": "[encoded data removed]",
      "text/plain": [
       "<Figure size 864x648 with 2 Axes>"
      ]
     },
     "metadata": {
      "needs_background": "light"
     },
     "output_type": "display_data"
    }
   ],
   "source": [
    "# Visualizing the label after outlier removal\n",
    "label = real_estate['unit_price']\n",
    "\n",
    "fig, ax = plt.subplots(2,1, figsize= (12, 9))\n",
    "\n",
    "sns.histplot(ax= ax[0], x= label, bins= 50)\n",
    "plt.xlabel('Frequency', size= 12)\n",
    "ax[0].axvline(label.mean(), color='red', linestyle='dashed', linewidth=2)\n",
    "ax[0].axvline(label.median(), color='yellow', linestyle='dashed', linewidth=2)\n",
    "\n",
    "sns.boxplot(ax= ax[1], x= label, linewidth= .8)\n",
    "\n",
    "plt.suptitle('Label Distribution after Removing Outliers', fontweight= 'bold', size= 15)\n",
    "plt.subplots_adjust(hspace= .3)\n",
    "plt.show()"
   ]
  },
  {
   "cell_type": "markdown",
   "id": "4c487818",
   "metadata": {},
   "source": [
    "#### Visualizing the Numeric Features by the label, Unit Price"
   ]
  },
  {
   "cell_type": "code",
   "execution_count": 13,
   "id": "0556a105",
   "metadata": {},
   "outputs": [
    {
     "data": {
      "image/png": "[encoded data removed]",
      "text/plain": [
       "<Figure size 1080x504 with 4 Axes>"
      ]
     },
     "metadata": {
      "needs_background": "light"
     },
     "output_type": "display_data"
    }
   ],
   "source": [
    "numeric_features  = ['house_age', 'transit_distance', 'latitude', 'longitude']\n",
    "\n",
    "fig, axes = plt.subplots(2, 2, figsize= (15, 7))\n",
    "y= 0\n",
    "for column in numeric_features:\n",
    "    i, j = divmod(y, 2)\n",
    "    sns.scatterplot(ax= axes[i, j], y= 'unit_price', x= column, data= real_estate, linewidth= .8)\\\n",
    "    .set(xlabel= None, ylabel= None, title= column)\n",
    "    y= y + 1\n",
    "\n",
    "\n",
    "plt.suptitle('Distribution of Numeric Features by Price per Unit', fontweight= 'bold', size = 15)\n",
    "plt.subplots_adjust(hspace= .4, wspace= .2)\n",
    "plt.show()"
   ]
  },
  {
   "cell_type": "markdown",
   "id": "4d0ab7d5",
   "metadata": {},
   "source": [
    "#### Visualizing the categorical features by the label, Unit Price"
   ]
  },
  {
   "cell_type": "code",
   "execution_count": 14,
   "id": "c45e3e9c",
   "metadata": {},
   "outputs": [
    {
     "data": {
      "image/png": "[encoded data removed]",
      "text/plain": [
       "<Figure size 360x288 with 1 Axes>"
      ]
     },
     "metadata": {
      "needs_background": "light"
     },
     "output_type": "display_data"
    }
   ],
   "source": [
    "# Visualizing the year distribution by label\n",
    "plt.figure(figsize= (5, 4))\n",
    "sns.boxplot(y= 'unit_price', x= 'year', data= real_estate, linewidth= .8)\n",
    "plt.title('Label Distribution by Years')\n",
    "plt.show()"
   ]
  },
  {
   "cell_type": "code",
   "execution_count": 15,
   "id": "a63261e6",
   "metadata": {
    "scrolled": false
   },
   "outputs": [
    {
     "data": {
      "image/png": "[encoded data removed]",
      "text/plain": [
       "<Figure size 864x504 with 1 Axes>"
      ]
     },
     "metadata": {
      "needs_background": "light"
     },
     "output_type": "display_data"
    }
   ],
   "source": [
    "# Visualizing the months distribution by label\n",
    "plt.figure(figsize= (12, 7))\n",
    "\n",
    "real_estate['month'] = pd.Categorical(real_estate['month'], ['January', 'February', 'March', 'April', 'May', 'June', 'July', \n",
    "                                                            'August', 'September', 'October', 'November', 'December'])\n",
    "\n",
    "\n",
    "sns.boxplot(x= 'unit_price', y= 'month', data= real_estate, linewidth= .8, color= 'skyblue')\n",
    "plt.title('Label Distribution by Months')\n",
    "plt.show()"
   ]
  },
  {
   "cell_type": "code",
   "execution_count": 16,
   "id": "6ccd67c6",
   "metadata": {},
   "outputs": [
    {
     "data": {
      "image/png": "[encoded data removed]",
      "text/plain": [
       "<Figure size 576x432 with 1 Axes>"
      ]
     },
     "metadata": {
      "needs_background": "light"
     },
     "output_type": "display_data"
    }
   ],
   "source": [
    "# Visualizing the convenience stores distribution by label\n",
    "plt.figure(figsize= (8, 6))\n",
    "real_estate['stores'] = pd.Categorical(real_estate['stores'], [1, 2, 3, 4, 5, 6, 7, 8, 9, 10])\n",
    "\n",
    "sns.boxplot(x= 'unit_price', y= 'stores', data= real_estate, linewidth= .8, color= 'skyblue')\n",
    "plt.title('Label Distribution by Number of Convenience Stores')\n",
    "plt.show()"
   ]
  },
  {
   "cell_type": "code",
   "execution_count": 17,
   "id": "a5ccf14d",
   "metadata": {},
   "outputs": [
    {
     "data": {
      "image/png": "[encoded data removed]",
      "text/plain": [
       "<Figure size 576x360 with 1 Axes>"
      ]
     },
     "metadata": {
      "needs_background": "light"
     },
     "output_type": "display_data"
    }
   ],
   "source": [
    "# Visualizing the correlation between columns\n",
    "plt.figure(figsize= (8, 5))\n",
    "sns.heatmap(real_estate.corr(), annot= True, cmap= 'Blues', cbar= False)\n",
    "plt.title('Correlation', fontweight= 'bold', size= 12)\n",
    "plt.show()"
   ]
  },
  {
   "cell_type": "markdown",
   "id": "54c8201b",
   "metadata": {},
   "source": [
    "The Correlation of the features by the unit price can be observed in the last line of the heatmap."
   ]
  },
  {
   "cell_type": "markdown",
   "id": "f15056b5",
   "metadata": {},
   "source": [
    "## **Modelling**"
   ]
  },
  {
   "cell_type": "markdown",
   "id": "9a75a6ca",
   "metadata": {},
   "source": [
    "- From the EDA conducted, there seems to be no dependency variation of the label by the year, so it has a low predictive power and will be dropped accordingly.\n",
    "- **Features:** Month, House age, Transit_distance, lattitude, longitude\n",
    "- **Label:** Price per Unit"
   ]
  },
  {
   "cell_type": "code",
   "execution_count": 18,
   "id": "87b5b769",
   "metadata": {},
   "outputs": [],
   "source": [
    "# Ordinal Encoding of the month column using the map method\n",
    "month_new = {'January': 0, 'February': 1, 'March': 2, 'April': 3, 'May': 4, 'June': 5, 'July': 6, 'August': 7, 'September': 8, \n",
    "             'October':9, 'November': 10, 'December': 11}\n",
    "real_estate.month= real_estate.month.map(month_new)"
   ]
  },
  {
   "cell_type": "code",
   "execution_count": 19,
   "id": "da4e0c62",
   "metadata": {},
   "outputs": [
    {
     "data": {
      "text/html": [
       "<div>\n",
       "<style scoped>\n",
       "    .dataframe tbody tr th:only-of-type {\n",
       "        vertical-align: middle;\n",
       "    }\n",
       "\n",
       "    .dataframe tbody tr th {\n",
       "        vertical-align: top;\n",
       "    }\n",
       "\n",
       "    .dataframe thead th {\n",
       "        text-align: right;\n",
       "    }\n",
       "</style>\n",
       "<table border=\"1\" class=\"dataframe\">\n",
       "  <thead>\n",
       "    <tr style=\"text-align: right;\">\n",
       "      <th></th>\n",
       "      <th>month</th>\n",
       "      <th>house_age</th>\n",
       "      <th>transit_distance</th>\n",
       "      <th>stores</th>\n",
       "      <th>latitude</th>\n",
       "      <th>longitude</th>\n",
       "    </tr>\n",
       "  </thead>\n",
       "  <tbody>\n",
       "    <tr>\n",
       "      <th>0</th>\n",
       "      <td>10</td>\n",
       "      <td>32.0</td>\n",
       "      <td>84.87882</td>\n",
       "      <td>10</td>\n",
       "      <td>24.98298</td>\n",
       "      <td>121.54024</td>\n",
       "    </tr>\n",
       "    <tr>\n",
       "      <th>1</th>\n",
       "      <td>10</td>\n",
       "      <td>19.5</td>\n",
       "      <td>306.59470</td>\n",
       "      <td>9</td>\n",
       "      <td>24.98034</td>\n",
       "      <td>121.53951</td>\n",
       "    </tr>\n",
       "    <tr>\n",
       "      <th>2</th>\n",
       "      <td>6</td>\n",
       "      <td>13.3</td>\n",
       "      <td>561.98450</td>\n",
       "      <td>5</td>\n",
       "      <td>24.98746</td>\n",
       "      <td>121.54391</td>\n",
       "    </tr>\n",
       "    <tr>\n",
       "      <th>3</th>\n",
       "      <td>5</td>\n",
       "      <td>13.3</td>\n",
       "      <td>561.98450</td>\n",
       "      <td>5</td>\n",
       "      <td>24.98746</td>\n",
       "      <td>121.54391</td>\n",
       "    </tr>\n",
       "    <tr>\n",
       "      <th>4</th>\n",
       "      <td>9</td>\n",
       "      <td>5.0</td>\n",
       "      <td>390.56840</td>\n",
       "      <td>5</td>\n",
       "      <td>24.97937</td>\n",
       "      <td>121.54245</td>\n",
       "    </tr>\n",
       "  </tbody>\n",
       "</table>\n",
       "</div>"
      ],
      "text/plain": [
       "  month  house_age  transit_distance stores  latitude  longitude\n",
       "0    10       32.0          84.87882     10  24.98298  121.54024\n",
       "1    10       19.5         306.59470      9  24.98034  121.53951\n",
       "2     6       13.3         561.98450      5  24.98746  121.54391\n",
       "3     5       13.3         561.98450      5  24.98746  121.54391\n",
       "4     9        5.0         390.56840      5  24.97937  121.54245"
      ]
     },
     "execution_count": 19,
     "metadata": {},
     "output_type": "execute_result"
    }
   ],
   "source": [
    "# Subsetting for the features\n",
    "x = real_estate.drop(['unit_price', 'year'], axis = 1)\n",
    "x.head()"
   ]
  },
  {
   "cell_type": "code",
   "execution_count": 20,
   "id": "8d36c2e6",
   "metadata": {},
   "outputs": [
    {
     "data": {
      "text/plain": [
       "0    37.9\n",
       "1    42.2\n",
       "2    47.3\n",
       "3    54.8\n",
       "4    43.1\n",
       "Name: unit_price, dtype: float64"
      ]
     },
     "execution_count": 20,
     "metadata": {},
     "output_type": "execute_result"
    }
   ],
   "source": [
    "# Subsetting for the label\n",
    "y= real_estate['unit_price']\n",
    "y.head()"
   ]
  },
  {
   "cell_type": "code",
   "execution_count": 21,
   "id": "874024a4",
   "metadata": {},
   "outputs": [
    {
     "name": "stdout",
     "output_type": "stream",
     "text": [
      "Training Rows: 286\n",
      "Test Rows: 123\n"
     ]
    }
   ],
   "source": [
    "# Splitting the data into train and test sets\n",
    "X_train, X_test, y_train, y_test = train_test_split(x, y, test_size = 0.3, random_state= 0)\n",
    "print('Training Rows:', len(X_train))\n",
    "print('Test Rows:', len(X_test))"
   ]
  },
  {
   "cell_type": "code",
   "execution_count": 22,
   "id": "d97cee48",
   "metadata": {},
   "outputs": [
    {
     "name": "stdout",
     "output_type": "stream",
     "text": [
      "Pipeline(steps=[('preprocessor',\n",
      "                 ColumnTransformer(transformers=[('numeric',\n",
      "                                                  Pipeline(steps=[('scaler',\n",
      "                                                                   StandardScaler())]),\n",
      "                                                  ['house_age',\n",
      "                                                   'transit_distance',\n",
      "                                                   'latitude',\n",
      "                                                   'longitude'])])),\n",
      "                ('regressor', RandomForestRegressor())])\n"
     ]
    }
   ],
   "source": [
    "# Creating a pipeline to carry out scaling on some features\n",
    "\n",
    "numeric_features = ['house_age', 'transit_distance', 'latitude', 'longitude'] # columns to be scaled \n",
    "numeric_transformer  = Pipeline(steps= [('scaler', StandardScaler())])\n",
    "\n",
    "preprocessor= ColumnTransformer(transformers= [('numeric', numeric_transformer, numeric_features)])\n",
    "\n",
    "pipeline= Pipeline(steps= [('preprocessor', preprocessor), \n",
    "                           ('regressor', RandomForestRegressor())])\n",
    "\n",
    "model = pipeline.fit(X_train, y_train)\n",
    "\n",
    "print(model)"
   ]
  },
  {
   "cell_type": "code",
   "execution_count": 23,
   "id": "40e600dc",
   "metadata": {},
   "outputs": [
    {
     "data": {
      "text/plain": [
       "array([30.79341667, 35.666     , 49.18000952, 51.13566667, 49.185     ,\n",
       "       35.04874286, 25.141     , 23.011     , 26.02783333, 40.9111    ,\n",
       "       49.185     , 48.78802738, 23.683     , 37.60766667, 39.66083333,\n",
       "       45.36266667, 54.481     , 18.0652    , 50.389     , 24.2415    ,\n",
       "       38.393     , 36.721     , 53.5465    , 43.535     , 45.13176667,\n",
       "       47.05103333, 55.401     , 43.326     , 41.0555    , 48.0745    ,\n",
       "       44.401     , 16.894     , 33.40927619, 38.734     , 28.438     ,\n",
       "       29.75241667, 64.15      , 51.7415    , 41.111     , 53.365     ,\n",
       "       34.358     , 38.1005    , 16.45306667, 25.52725   , 40.126     ,\n",
       "       43.6725    , 36.66536667, 64.15      , 48.80067619, 37.686     ,\n",
       "       48.094     , 42.96985714, 16.272     , 24.868     , 27.878     ,\n",
       "       19.187     , 44.309     , 33.05      , 33.481     , 39.616     ,\n",
       "       49.185     , 21.962     , 36.501     , 57.4699    , 36.724     ,\n",
       "       44.64575   , 51.365     , 40.17126667, 51.618     , 36.3715    ,\n",
       "       42.961     , 27.8438    , 47.05103333, 42.366     , 43.828     ,\n",
       "       46.10833333, 27.07622222, 39.786     , 29.21655   , 17.971     ,\n",
       "       34.071     , 43.3135    , 27.94775   , 45.031     , 44.0738    ,\n",
       "       28.664     , 25.139     , 14.911     , 18.49855556, 42.329     ,\n",
       "       44.181     , 19.562     , 22.499     , 23.8765    , 39.66083333,\n",
       "       48.09816667, 19.468     , 54.83      , 26.374     , 39.339     ,\n",
       "       18.0652    , 45.192     , 47.5135    , 36.651     , 42.4995    ,\n",
       "       49.077     , 41.1136    , 28.496     , 41.13724286, 52.136     ,\n",
       "       32.553     , 41.786     , 59.2954    , 28.496     , 38.127     ,\n",
       "       40.329     , 46.22816667, 48.78802738, 23.5315    , 61.1885    ,\n",
       "       23.82516667, 17.724     , 42.99616667])"
      ]
     },
     "execution_count": 23,
     "metadata": {},
     "output_type": "execute_result"
    }
   ],
   "source": [
    "# Predicting the Unit Price of the test size \n",
    "y_pred = model.predict(X_test)\n",
    "y_pred"
   ]
  },
  {
   "cell_type": "code",
   "execution_count": 24,
   "id": "44111cec",
   "metadata": {},
   "outputs": [
    {
     "data": {
      "text/plain": [
       "0.9566010209636753"
      ]
     },
     "execution_count": 24,
     "metadata": {},
     "output_type": "execute_result"
    }
   ],
   "source": [
    "model.score(X_train, y_train)"
   ]
  },
  {
   "cell_type": "markdown",
   "id": "9278ec6c",
   "metadata": {},
   "source": [
    "### **Evaluating the Model**"
   ]
  },
  {
   "cell_type": "code",
   "execution_count": 25,
   "id": "3b724000",
   "metadata": {},
   "outputs": [
    {
     "name": "stdout",
     "output_type": "stream",
     "text": [
      "Mean Squared Error: 26.451826752204052\n",
      "Root Mean Squared Error: 5.143133942666092\n",
      "R2 Score: 0.8020824573158974\n"
     ]
    }
   ],
   "source": [
    "mse = mean_squared_error(y_test, y_pred)\n",
    "print('Mean Squared Error:', mse)\n",
    "rmse= np.sqrt(mse)\n",
    "print('Root Mean Squared Error:', rmse)\n",
    "r2 = r2_score(y_test, y_pred)\n",
    "print('R2 Score:', r2)"
   ]
  },
  {
   "cell_type": "code",
   "execution_count": 26,
   "id": "646ea656",
   "metadata": {},
   "outputs": [
    {
     "data": {
      "image/png": "[encoded data removed]",
      "text/plain": [
       "<Figure size 720x432 with 1 Axes>"
      ]
     },
     "metadata": {
      "needs_background": "light"
     },
     "output_type": "display_data"
    }
   ],
   "source": [
    "# Plotting Predicted vs Actual Unit Price\n",
    "plt.figure(figsize= (10, 6))\n",
    "sns.scatterplot(y_test, y_pred, color= 'purple')\n",
    "plt.xlabel('Actual', fontweight= 'bold')\n",
    "plt.ylabel('Predicted', fontweight= 'bold')\n",
    "plt.title('Predictions vs Actual Unit Price', fontweight= 'bold')\n",
    "z= np.polyfit(y_test, y_pred, 1)\n",
    "p= np.poly1d(z)\n",
    "plt.plot(y_test, p(y_test), color = \"red\")\n",
    "plt.show()"
   ]
  },
  {
   "cell_type": "markdown",
   "id": "82d5635d",
   "metadata": {},
   "source": [
    "### **Testing New Data**"
   ]
  },
  {
   "cell_type": "code",
   "execution_count": 27,
   "id": "26a64f6a",
   "metadata": {},
   "outputs": [],
   "source": [
    "# Saving the model for later use\n",
    "import joblib\n",
    "path= './model.pkl'\n",
    "joblib.dump(model, path)\n",
    "\n",
    "model= joblib.load(path) "
   ]
  },
  {
   "cell_type": "code",
   "execution_count": 28,
   "id": "c65701e7",
   "metadata": {},
   "outputs": [
    {
     "data": {
      "text/html": [
       "<div>\n",
       "<style scoped>\n",
       "    .dataframe tbody tr th:only-of-type {\n",
       "        vertical-align: middle;\n",
       "    }\n",
       "\n",
       "    .dataframe tbody tr th {\n",
       "        vertical-align: top;\n",
       "    }\n",
       "\n",
       "    .dataframe thead th {\n",
       "        text-align: right;\n",
       "    }\n",
       "</style>\n",
       "<table border=\"1\" class=\"dataframe\">\n",
       "  <thead>\n",
       "    <tr style=\"text-align: right;\">\n",
       "      <th></th>\n",
       "      <th>month</th>\n",
       "      <th>house_age</th>\n",
       "      <th>transit_distance</th>\n",
       "      <th>stores</th>\n",
       "      <th>latitude</th>\n",
       "      <th>longitude</th>\n",
       "    </tr>\n",
       "  </thead>\n",
       "  <tbody>\n",
       "    <tr>\n",
       "      <th>0</th>\n",
       "      <td>0</td>\n",
       "      <td>16.2</td>\n",
       "      <td>289.3248</td>\n",
       "      <td>5</td>\n",
       "      <td>24.98203</td>\n",
       "      <td>121.54348</td>\n",
       "    </tr>\n",
       "    <tr>\n",
       "      <th>1</th>\n",
       "      <td>11</td>\n",
       "      <td>13.6</td>\n",
       "      <td>4082.0150</td>\n",
       "      <td>0</td>\n",
       "      <td>24.94155</td>\n",
       "      <td>121.50381</td>\n",
       "    </tr>\n",
       "  </tbody>\n",
       "</table>\n",
       "</div>"
      ],
      "text/plain": [
       "   month  house_age  transit_distance  stores  latitude  longitude\n",
       "0      0       16.2          289.3248       5  24.98203  121.54348\n",
       "1     11       13.6         4082.0150       0  24.94155  121.50381"
      ]
     },
     "execution_count": 28,
     "metadata": {},
     "output_type": "execute_result"
    }
   ],
   "source": [
    "# Creating a new data to test model on\n",
    "X_new = pd.DataFrame([[0, 16.2, 289.3248, 5, 24.98203, 121.54348], [11, 13.6, 4082.015, 0, 24.94155, 121.50381]], \n",
    "                    columns = ['month', 'house_age', 'transit_distance', 'stores', 'latitude', 'longitude'])\n",
    "\n",
    "X_new"
   ]
  },
  {
   "cell_type": "code",
   "execution_count": 29,
   "id": "885bec52",
   "metadata": {
    "scrolled": true
   },
   "outputs": [
    {
     "name": "stdout",
     "output_type": "stream",
     "text": [
      "Results:\n",
      "49.18\n",
      "15.98\n"
     ]
    }
   ],
   "source": [
    "predicted = model.predict(X_new)\n",
    "print('Results:')\n",
    "for i in predicted:\n",
    "    print(round(i, 2))"
   ]
  }
 ],
 "metadata": {
  "kernelspec": {
   "display_name": "Python 3 (ipykernel)",
   "language": "python",
   "name": "python3"
  },
  "language_info": {
   "codemirror_mode": {
    "name": "ipython",
    "version": 3
   },
   "file_extension": ".py",
   "mimetype": "text/x-python",
   "name": "python",
   "nbconvert_exporter": "python",
   "pygments_lexer": "ipython3",
   "version": "3.9.12"
  }
 },
 "nbformat": 4,
 "nbformat_minor": 5
}
